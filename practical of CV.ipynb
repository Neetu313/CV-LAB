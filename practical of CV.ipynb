{
 "cells": [
  {
   "cell_type": "code",
   "execution_count": null,
   "metadata": {},
   "outputs": [],
   "source": [
    "# ques 5 negative image\n",
    "import cv2\n",
    "img = cv2.imread('Desktop/Rohit.jpg')    # load img(read img)\n",
    "cv2.imshow('color_img',img)      # color img\n",
    "neg_ = cv2.bitwise_not(img)     # bitwise_not is a attribut(function) \n",
    "cv2.imshow('neg_img',neg_)      # show neg img\n",
    "cv2.waitKey()\n",
    "cv2.destroyAllWindows()"
   ]
  },
  {
   "cell_type": "code",
   "execution_count": null,
   "metadata": {},
   "outputs": [],
   "source": [
    "# ques 3 convert the color image black and white, grayscal and bluescale....\n",
    "import cv2\n",
    "clr_img = cv2.imread('Desktop/Rohit.jpg')\n",
    "gray = cv2.cvtColor(clr_img, cv2.COLOR_BGR2GRAY)\n",
    "blue = cv2.cvtColor()\n",
    "cv2.imshow('gray__', gray)\n",
    "cv2.waitKey()\n",
    "cv2.destroyAllWindows()"
   ]
  },
  {
   "cell_type": "code",
   "execution_count": 8,
   "metadata": {},
   "outputs": [],
   "source": [
    "# ques 1\n",
    "import numpy as np\n",
    "import matplotlib.pyplot as plt\n",
    "array = np.zeros((300, 300))\n",
    "for i in range(300):\n",
    "    for j in range(300):\n",
    "        if(i>100 and j<200) and (j>100 and j<200):\n",
    "            array[i][j] = 255\n",
    "        else:\n",
    "            array[i][j] = 0"
   ]
  },
  {
   "cell_type": "code",
   "execution_count": null,
   "metadata": {},
   "outputs": [],
   "source": []
  },
  {
   "cell_type": "code",
   "execution_count": null,
   "metadata": {},
   "outputs": [],
   "source": []
  },
  {
   "cell_type": "code",
   "execution_count": null,
   "metadata": {},
   "outputs": [],
   "source": []
  },
  {
   "cell_type": "code",
   "execution_count": null,
   "metadata": {},
   "outputs": [],
   "source": []
  },
  {
   "cell_type": "code",
   "execution_count": null,
   "metadata": {},
   "outputs": [],
   "source": []
  },
  {
   "cell_type": "code",
   "execution_count": null,
   "metadata": {},
   "outputs": [],
   "source": []
  },
  {
   "cell_type": "code",
   "execution_count": null,
   "metadata": {},
   "outputs": [],
   "source": []
  }
 ],
 "metadata": {
  "kernelspec": {
   "display_name": "Python 3",
   "language": "python",
   "name": "python3"
  },
  "language_info": {
   "codemirror_mode": {
    "name": "ipython",
    "version": 3
   },
   "file_extension": ".py",
   "mimetype": "text/x-python",
   "name": "python",
   "nbconvert_exporter": "python",
   "pygments_lexer": "ipython3",
   "version": "3.7.3"
  }
 },
 "nbformat": 4,
 "nbformat_minor": 2
}
