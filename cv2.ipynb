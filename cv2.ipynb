{
 "cells": [
  {
   "cell_type": "code",
   "execution_count": null,
   "metadata": {},
   "outputs": [],
   "source": [
    "#simple load a image\n",
    "import cv2\n",
    "import numpy as n\n",
    "img=cv2.imread('Desktop/cat.jpg')\n",
    "img1=cv2.imshow('color.image',img)\n",
    "val=n.ones(img.shape, dtype='uint8')*100\n",
    "c=cv2.subtract(img,val)\n",
    "img1=cv2.imshow('dark',c)\n",
    "cv2.imwrite('Desktop/p1.jpg',img)\n",
    "cv2.waitKey()\n",
    "cv2.destroyAllWindows()"
   ]
  },
  {
   "cell_type": "code",
   "execution_count": 3,
   "metadata": {},
   "outputs": [
    {
     "name": "stdout",
     "output_type": "stream",
     "text": [
      "()\n"
     ]
    }
   ],
   "source": [
    "#for continuous capturing the  \n",
    "import cv2\n",
    "cap = cv2.VideoCapture(0)\n",
    "face = cv2.CascadeClassifier('C:/Users/dell/Downloads/opencv-master/opencv-master/data/haarcascades/haarcascade_eye.xml')\n",
    "\n",
    "while True:\n",
    "    ret,frame = cap.read()\n",
    "    b = face.detectMultiScale(frame,1.1,7)\n",
    "    img = cv2.imshow('live capture',frame)\n",
    "    if cv2.waitKey(1)==67:\n",
    "        break\n",
    "        \n",
    "print(b)\n",
    "cap.release()\n",
    "cv2.destroyAllWindows()"
   ]
  },
  {
   "cell_type": "code",
   "execution_count": null,
   "metadata": {},
   "outputs": [],
   "source": []
  },
  {
   "cell_type": "code",
   "execution_count": null,
   "metadata": {},
   "outputs": [],
   "source": [
    "1.   b = face.detectMultiScale(frame,1.3,5)   ----  \n",
    "frame =  The detection window starts out at size\n"
   ]
  },
  {
   "cell_type": "code",
   "execution_count": null,
   "metadata": {},
   "outputs": [],
   "source": [
    "# for convert the color\n",
    "import cv2\n",
    "img = cv2.imread('Desktop/Rohit.jpg')\n",
    "G_img = cv2.cvtColor(img,cv2.IMREAD_GRAYSCALE)\n",
    "cv2.imshow('Gray image', G_img)\n",
    "cv2.waitKey()\n",
    "cv2.destroyAllWindows()"
   ]
  },
  {
   "cell_type": "code",
   "execution_count": null,
   "metadata": {},
   "outputs": [],
   "source": [
    "#rectangle on an image\n",
    "import cv2\n",
    "cap=cv2.VideoCapture(0)\n",
    "\n",
    "b\n",
    "\n",
    "cap.release()\n",
    "cv2.waitKey()\n",
    "cv2.destroyAllWindows()"
   ]
  },
  {
   "cell_type": "code",
   "execution_count": null,
   "metadata": {},
   "outputs": [],
   "source": [
    "import cv2\n",
    "import numpy as np\n",
    "face=cv2.CascadeClassifier('C:/Users/dell/Downloads/opencv-master1/opencv-master/data/haarcascades/haarcascade_frontalface_default.xml')\n",
    "eye=cv2.CascadeClassifier('C:/Users/dell/Downloads/opencv-master1/opencv-master/data/haarcascades/haarcascade_eye')\n",
    "cap=cv2.VideoCapture(0)\n",
    "\n",
    "while True:\n",
    "    ret,img=cap.read()\n",
    "    gray=cv2.cvtColor(img,cv2.COLOR_BGR2GRAY)\n",
    "    faces=face.detectMultiScale(gray,1.3,5)\n",
    "    for(x,y,w,h) in faces:\n",
    "        cv2.rectangle(img,(x,y),(x+w , y+h),(255,0,0),2)\n",
    "        roi_gray=gray[y:y+h, x:x+w]\n",
    "        roi_color=img[y:y+h, x:x+w]\n",
    "        eyes=eye_cascade.detectMultiScale(roi_gray)\n",
    "        for (ex,ey,ew,eh) in eyes:\n",
    "            cv2.rectangle(roi_color,(ex,ey),(ex+ew,ey+eh),(255,0,0),2)\n",
    "            \n",
    "    cv2.imshow('img',img)\n",
    "    k=cv2.waitkey(30) & 0xff\n",
    "    if k==27:\n",
    "        break\n",
    "        \n",
    "cap.release()\n",
    "cv2.destroyAllWindows()"
   ]
  },
  {
   "cell_type": "code",
   "execution_count": null,
   "metadata": {},
   "outputs": [],
   "source": [
    "#image blur\n",
    "import cv2\n",
    "cap=cv2.VideoCapture(0)\n",
    "face=cv2.CascadeClassifier('C:/Users/dell/Downloads/opencv-master/opencv-master/data/haarcascades/haarcascade_eye.xml')\n",
    "while True:\n",
    "    ret,frame=cap.read()\n",
    "    b=face.detectMultiScale(frame,1.3,5)\n",
    "    bimg=cv2.blur(frame,(20,20))\n",
    "    for(x,y,w,h) in b:\n",
    "        cv2.rectangle(frame,(x,y),(x+w,y+h),(255,0,0))\n",
    "         \n",
    "    img=cv2.imshow('live capture',bimg)\n",
    "    \n",
    "    if cv2.waitKey(1)==67:\n",
    "        break\n",
    "print(b)\n",
    "cap.release()\n",
    "cv2.destroyAllWindows()"
   ]
  },
  {
   "cell_type": "code",
   "execution_count": null,
   "metadata": {},
   "outputs": [],
   "source": [
    "#for detect face with rectangle\n",
    "import cv2\n",
    "cap=cv2.VideoCapture(0)\n",
    "i=1\n",
    "while True:\n",
    "    face=cv2.CascadeClassifier('C:/Users/dell/Downloads/opencv-master/opencv-master/data/haarcascades/haarcascade_frontalface_default.xml')\n",
    "    ret,frame=cap.read()\n",
    "    b=face.detectMultiScale(frame,1.3,5)\n",
    "    #bimg=cv2.blur(frame,(30,30))\n",
    "    \n",
    "    for(x,y,w,h) in b:\n",
    "        #cv2.rectangle(frame,(x,y),(x+w,y+h),(255,0,0),2)\n",
    "        face=frame[y:y+h,x:x+w]\n",
    "        key=cv2.waitKey(1)\n",
    "        if key==97:\n",
    "            cv2.imwrite('Desktop/'+str(i)+'.jpg',face)\n",
    "            i=i+1\n",
    "        elif key==67:\n",
    "            break\n",
    "         \n",
    "    img=cv2.imshow('live capture',frame)\n",
    "\n",
    "cap.release()\n",
    "cv2.destroyAllWindows()"
   ]
  },
  {
   "cell_type": "code",
   "execution_count": null,
   "metadata": {},
   "outputs": [],
   "source": []
  }
 ],
 "metadata": {
  "kernelspec": {
   "display_name": "Python 3",
   "language": "python",
   "name": "python3"
  },
  "language_info": {
   "codemirror_mode": {
    "name": "ipython",
    "version": 3
   },
   "file_extension": ".py",
   "mimetype": "text/x-python",
   "name": "python",
   "nbconvert_exporter": "python",
   "pygments_lexer": "ipython3",
   "version": "3.7.3"
  }
 },
 "nbformat": 4,
 "nbformat_minor": 2
}
